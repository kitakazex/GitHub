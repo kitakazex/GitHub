{
  "nbformat": 4,
  "nbformat_minor": 0,
  "metadata": {
    "colab": {
      "name": "ネタ10",
      "provenance": [],
      "collapsed_sections": [],
      "toc_visible": true,
      "authorship_tag": "ABX9TyO2vKallEpNnMTcaTpPRarQ",
      "include_colab_link": true
    },
    "kernelspec": {
      "name": "python3",
      "display_name": "Python 3"
    },
    "language_info": {
      "name": "python"
    }
  },
  "cells": [
    {
      "cell_type": "markdown",
      "metadata": {
        "id": "view-in-github",
        "colab_type": "text"
      },
      "source": [
        "<a href=\"https://colab.research.google.com/github/kitakazex/GitHub/blob/master/%E3%83%8D%E3%82%BF10.ipynb\" target=\"_parent\"><img src=\"https://colab.research.google.com/assets/colab-badge.svg\" alt=\"Open In Colab\"/></a>"
      ]
    },
    {
      "cell_type": "markdown",
      "metadata": {
        "id": "yOyIhc6-NO76"
      },
      "source": [
        "# 1.コンテンツ収集ツール"
      ]
    },
    {
      "cell_type": "markdown",
      "metadata": {
        "id": "RkgqZ6ig82pV"
      },
      "source": [
        "### 練習①　単一ページ内の情報リンクを一覧化\n",
        "---\n",
        "令和2年の木材需給の統計サイトにアクセスして、「木材」という文字をキーワードとしてもつリンクテキストの一覧を取り出します。"
      ]
    },
    {
      "cell_type": "markdown",
      "metadata": {
        "id": "0gYlOCH3lTne"
      },
      "source": [
        "#### 動作のテスト"
      ]
    },
    {
      "cell_type": "code",
      "metadata": {
        "id": "wPukeFg3NLIF"
      },
      "source": [
        "#ライブラリを読み込む\n",
        "import requests\n",
        "from bs4 import BeautifulSoup"
      ],
      "execution_count": null,
      "outputs": []
    },
    {
      "cell_type": "code",
      "metadata": {
        "id": "jkK3cI2aNowR"
      },
      "source": [
        "#特定のサイトにアクセスする\n",
        "url='https://www.e-stat.go.jp/stat-search/files?page=1&layout=datalist&toukei=00501000&tstat=000001021364&cycle=7&year=20200&month=0&tclass1=000001021365&tclass2=000001158370'\n",
        "res=requests.get(url)"
      ],
      "execution_count": null,
      "outputs": []
    },
    {
      "cell_type": "code",
      "metadata": {
        "id": "uYSc89qzN5b6"
      },
      "source": [
        "#BeautifulSoupのオブジェクトを生成する\n",
        "soup=BeautifulSoup(res.text,\"html.parser\")"
      ],
      "execution_count": null,
      "outputs": []
    },
    {
      "cell_type": "code",
      "metadata": {
        "id": "FyXNucdPOrV6"
      },
      "source": [
        "#正規表現のライブラリを追加でインポートする\n",
        "import re"
      ],
      "execution_count": null,
      "outputs": []
    },
    {
      "cell_type": "code",
      "metadata": {
        "id": "KuB_qI-VO20Z"
      },
      "source": [
        "#アンカータグ(aタグ)のテキストに木材を含む要素を取得する。\n",
        "#パターンマッチングのためにre(正規表現のライブラリ)をインポートしています。\n",
        "elems = soup.find_all('a', text=re.compile('木材'))\n",
        "elems"
      ],
      "execution_count": null,
      "outputs": []
    },
    {
      "cell_type": "code",
      "metadata": {
        "id": "a66kx0b4PWMK"
      },
      "source": [
        "#試しに、中身を1つ確認する。\t\n",
        "text=elems[0].contents[0]\n",
        "text"
      ],
      "execution_count": null,
      "outputs": []
    },
    {
      "cell_type": "code",
      "metadata": {
        "colab": {
          "base_uri": "https://localhost:8080/",
          "height": 35
        },
        "id": "GjTkP4q7ZbJH",
        "outputId": "285a1103-74e9-4c85-9c19-f50ba1897f3a"
      },
      "source": [
        "#replace()とstrip()を使い、邪魔な「改行文字」と前後の「空白文字」を取り除く\n",
        "text=text.replace('\\n','').strip()\n",
        "text"
      ],
      "execution_count": null,
      "outputs": [
        {
          "output_type": "execute_result",
          "data": {
            "application/vnd.google.colaboratory.intrinsic+json": {
              "type": "string"
            },
            "text/plain": [
              "'令和２年(2020年)木材需給表'"
            ]
          },
          "metadata": {},
          "execution_count": 24
        }
      ]
    },
    {
      "cell_type": "code",
      "metadata": {
        "colab": {
          "base_uri": "https://localhost:8080/",
          "height": 69
        },
        "id": "QkTmow93QyY3",
        "outputId": "9a7be011-2acd-40a9-f1d7-af8951bc58ee"
      },
      "source": [
        "#試しに、アンカータグのhref属性を1つ確認する\n",
        "elem=elems[0].attrs['href']\n",
        "elem"
      ],
      "execution_count": null,
      "outputs": [
        {
          "output_type": "execute_result",
          "data": {
            "application/vnd.google.colaboratory.intrinsic+json": {
              "type": "string"
            },
            "text/plain": [
              "'/stat-search/files?page=1&layout=datalist&cycle=7&year=20200&month=0&toukei=00501000&tstat=000001021364&tclass1=000001021365&tclass2=000001158370&tclass3val=0&stat_infid=000032121754'"
            ]
          },
          "metadata": {},
          "execution_count": 16
        }
      ]
    },
    {
      "cell_type": "code",
      "metadata": {
        "id": "cEWDadxsUzxT"
      },
      "source": [
        "\"\"\"\n",
        "リンク先が相対URLだったため、urllib.parse.urljoin()で\n",
        "ベースのURLと結合するためにurllib.parseを追加でインポートします。\n",
        "\"\"\"\n",
        "import urllib.parse"
      ],
      "execution_count": null,
      "outputs": []
    },
    {
      "cell_type": "code",
      "metadata": {
        "colab": {
          "base_uri": "https://localhost:8080/",
          "height": 69
        },
        "id": "abrUdSoeU2ia",
        "outputId": "fcbb6d59-0394-47f0-8de4-cd4eb3f4bd24"
      },
      "source": [
        "#ベースのURLを代入し、rllib.parse.urljoin()でサイトから取り出した相対URLと結合します。\n",
        "urlbase='https://www.e-stat.go.jp/'\n",
        "urllib.parse.urljoin(urlbase,elem)"
      ],
      "execution_count": null,
      "outputs": [
        {
          "output_type": "execute_result",
          "data": {
            "application/vnd.google.colaboratory.intrinsic+json": {
              "type": "string"
            },
            "text/plain": [
              "'https://www.e-stat.go.jp/stat-search/files?page=1&layout=datalist&cycle=7&year=20200&month=0&toukei=00501000&tstat=000001021364&tclass1=000001021365&tclass2=000001158370&tclass3val=0&stat_infid=000032121754'"
            ]
          },
          "metadata": {},
          "execution_count": 18
        }
      ]
    },
    {
      "cell_type": "code",
      "metadata": {
        "id": "aGfIh7FjRkQH",
        "colab": {
          "base_uri": "https://localhost:8080/"
        },
        "outputId": "43d05347-762f-4c3b-d0d3-a96db81cc396"
      },
      "source": [
        "#for文でelemsの中身を取り出します。\n",
        "for elem in elems:\n",
        "    print(elem.contents[0].replace('\\n','').strip())\n",
        "    print(urllib.parse.urljoin(urlbase,elem.attrs['href']))"
      ],
      "execution_count": null,
      "outputs": [
        {
          "output_type": "stream",
          "name": "stdout",
          "text": [
            "令和２年(2020年)木材需給表\n",
            "https://www.e-stat.go.jp/stat-search/files?page=1&layout=datalist&cycle=7&year=20200&month=0&toukei=00501000&tstat=000001021364&tclass1=000001021365&tclass2=000001158370&tclass3val=0&stat_infid=000032121754\n",
            "木材需給の推移\n",
            "https://www.e-stat.go.jp/stat-search/files?page=1&layout=datalist&cycle=7&year=20200&month=0&toukei=00501000&tstat=000001021364&tclass1=000001021365&tclass2=000001158370&tclass3val=0&stat_infid=000032121755\n",
            "木材の需要量（用途別）の推移\n",
            "https://www.e-stat.go.jp/stat-search/files?page=1&layout=datalist&cycle=7&year=20200&month=0&toukei=00501000&tstat=000001021364&tclass1=000001021365&tclass2=000001158370&tclass3val=0&stat_infid=000032121756\n",
            "木材の供給量（形態別）の推移\n",
            "https://www.e-stat.go.jp/stat-search/files?page=1&layout=datalist&cycle=7&year=20200&month=0&toukei=00501000&tstat=000001021364&tclass1=000001021365&tclass2=000001158370&tclass3val=0&stat_infid=000032121757\n"
          ]
        }
      ]
    },
    {
      "cell_type": "markdown",
      "metadata": {
        "id": "Epn4t7BzlrkN"
      },
      "source": [
        "#### まとめ\n",
        "\n",
        "---\n",
        "◇標準ライブラリ<br />\n",
        "　　urllib,requests： URLを扱う<br />\n",
        "　　re： 正規表現を扱う<br />\n",
        "<br />\n",
        "◇外部ライブラリ<br />\n",
        "　　BeautifulSoup：スクレイピングを可能にする。<br />\n",
        "\n",
        "\n"
      ]
    },
    {
      "cell_type": "code",
      "metadata": {
        "id": "4Z6xN57jlxpd"
      },
      "source": [
        "import requests,re,urllib\n",
        "from bs4 import BeautifulSoup\n",
        "\n",
        "urlbase='https://www.e-stat.go.jp/'\n",
        "url='https://www.e-stat.go.jp/stat-search/files?page=1&layout=datalist&toukei=00501000&tstat=000001021364&cycle=7&year=20200&month=0&tclass1=000001021365&tclass2=000001158370'\n",
        "\n",
        "res=requests.get(url)\n",
        "soup=BeautifulSoup(res.text,\"html.parser\")\n",
        "elems = soup.find_all('a', text=re.compile('木材'))\n",
        "for elem in elems:\n",
        "    print(elem.contents[0].replace('\\n','').strip())\n",
        "    print(urllib.parse.urljoin(urlbase,elem.attrs['href']))\n"
      ],
      "execution_count": null,
      "outputs": []
    },
    {
      "cell_type": "markdown",
      "metadata": {
        "id": "hZDxsUeB8wMV"
      },
      "source": [
        "### 練習②　リンク先ページ内の情報リンクを一覧化"
      ]
    },
    {
      "cell_type": "markdown",
      "metadata": {
        "id": "FU9pBmiTZBtL"
      },
      "source": [
        "#### 動作のテスト"
      ]
    },
    {
      "cell_type": "code",
      "metadata": {
        "id": "o5tmFuXw9fFj"
      },
      "source": [
        "#ライブラリをインポート\n",
        "import requests\n",
        "from bs4 import BeautifulSoup"
      ],
      "execution_count": null,
      "outputs": []
    },
    {
      "cell_type": "code",
      "metadata": {
        "id": "KHxM1efU8vWd"
      },
      "source": [
        "#木材需給表サイトにアクセス\n",
        "url='https://www.maff.go.jp/j/tokei/kouhyou/mokuzai_zyukyu/index.html'\n",
        "res=requests.get(url)"
      ],
      "execution_count": null,
      "outputs": []
    },
    {
      "cell_type": "code",
      "metadata": {
        "id": "w6Heu_kdSDRu"
      },
      "source": [
        "#解析方法としてlxmlを選択しています。\n",
        "soup=BeautifulSoup(res.text,'lxml')"
      ],
      "execution_count": null,
      "outputs": []
    },
    {
      "cell_type": "code",
      "metadata": {
        "id": "asoV_UXq_GuP"
      },
      "source": [
        "#2つ目のテーブル内にあるアンカータグを全て取得して内容を確認します。\n",
        "for a in soup.select('table:nth-of-type(2)  a'):\n",
        "    print(a.text)\n",
        "    print(a.get('href'))"
      ],
      "execution_count": null,
      "outputs": []
    },
    {
      "cell_type": "code",
      "metadata": {
        "id": "RpnQiXxpYBxG"
      },
      "source": [
        "#リンク先にアクセスしてリンクの一覧リストを表示する関数を定義\n",
        "#関数の内容は練習①のまとめとほぼ同一です。\n",
        "import re,urllib\n",
        "urlbase='https://www.e-stat.go.jp/'\n",
        "def make_list(url):\n",
        "\n",
        "    res=requests.get(url)\n",
        "    soup=BeautifulSoup(res.text,'lxml')\n",
        "    elems = soup.find_all('a', text=re.compile('木材'))\n",
        "    print('\\n')\n",
        "\n",
        "    for elem in elems:\n",
        "        print(elem.contents[0].replace('\\n','').strip())\n",
        "        print(urllib.parse.urljoin(urlbase,elem.attrs['href']))"
      ],
      "execution_count": 37,
      "outputs": []
    },
    {
      "cell_type": "code",
      "metadata": {
        "id": "azg41llMY6_V"
      },
      "source": [
        "#2つ目のテーブル内にあるアンカータグを全て取得して内容を確認します。\n",
        "\n",
        "for a in soup.select('table:nth-of-type(2)  a'):\n",
        "    url=a.get('href')\n",
        "    make_list(url)"
      ],
      "execution_count": null,
      "outputs": []
    },
    {
      "cell_type": "markdown",
      "metadata": {
        "id": "zdXs6QYvfupW"
      },
      "source": [
        "#### まとめ"
      ]
    },
    {
      "cell_type": "code",
      "metadata": {
        "id": "8uLDorMaf5Ju"
      },
      "source": [
        "#ライブラリをインポート\n",
        "import requests,urllib,re\n",
        "from bs4 import BeautifulSoup\n",
        "#木材需給表サイトにアクセス\n",
        "url='https://www.maff.go.jp/j/tokei/kouhyou/mokuzai_zyukyu/index.html'\n",
        "res=requests.get(url)\n",
        "soup=BeautifulSoup(res.text,'lxml')\n",
        "urlbase='https://www.e-stat.go.jp/'\n",
        "\n",
        "def make_list(url):\n",
        "\n",
        "    res=requests.get(url)\n",
        "    soup=BeautifulSoup(res.text,'lxml')\n",
        "    elems = soup.find_all('a', text=re.compile('木材'))\n",
        "    print('\\n')\n",
        "\n",
        "    for elem in elems:\n",
        "        print(elem.contents[0].replace('\\n','').strip())\n",
        "        print(urllib.parse.urljoin(urlbase,elem.attrs['href']))\n",
        "#2つ目のテーブル内にあるアンカータグを全て取得して内容を確認します。\n",
        "\n",
        "for a in soup.select('table:nth-of-type(2)  a'):\n",
        "    url=a.get('href')\n",
        "    make_list(url)"
      ],
      "execution_count": null,
      "outputs": []
    }
  ]
}