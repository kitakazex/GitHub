{
  "nbformat": 4,
  "nbformat_minor": 0,
  "metadata": {
    "colab": {
      "name": "ネタ10",
      "provenance": [],
      "collapsed_sections": [],
      "toc_visible": true,
      "authorship_tag": "ABX9TyNK6/levnv3DNhhtZhvRlhs",
      "include_colab_link": true
    },
    "kernelspec": {
      "name": "python3",
      "display_name": "Python 3"
    },
    "language_info": {
      "name": "python"
    }
  },
  "cells": [
    {
      "cell_type": "markdown",
      "metadata": {
        "id": "view-in-github",
        "colab_type": "text"
      },
      "source": [
        "<a href=\"https://colab.research.google.com/github/kitakazex/Project10_Charenge/blob/master/%E3%83%8D%E3%82%BF10.ipynb\" target=\"_parent\"><img src=\"https://colab.research.google.com/assets/colab-badge.svg\" alt=\"Open In Colab\"/></a>"
      ]
    },
    {
      "cell_type": "markdown",
      "metadata": {
        "id": "yOyIhc6-NO76"
      },
      "source": [
        "# 1.コンテンツ収集ツール"
      ]
    },
    {
      "cell_type": "markdown",
      "metadata": {
        "id": "RkgqZ6ig82pV"
      },
      "source": [
        "### 練習①　単一ページ内のリンク情報を一覧リスト化\n",
        "\n",
        "> インデントされたブロック\n",
        "\n",
        "\n",
        "---\n",
        "令和2年の木材需給の統計サイトにアクセスして、「木材」という文字をキーワードとしてもつリンクテキストの一覧を取り出します。\n",
        "ナゼ『木材需給？』というのは自分でも謎です。"
      ]
    },
    {
      "cell_type": "markdown",
      "metadata": {
        "id": "0gYlOCH3lTne"
      },
      "source": [
        "#### 動作のテスト"
      ]
    },
    {
      "cell_type": "code",
      "metadata": {
        "id": "wPukeFg3NLIF"
      },
      "source": [
        "#ライブラリを読み込む\n",
        "import requests\n",
        "from bs4 import BeautifulSoup"
      ],
      "execution_count": null,
      "outputs": []
    },
    {
      "cell_type": "code",
      "metadata": {
        "id": "jkK3cI2aNowR"
      },
      "source": [
        "#特定のサイトにアクセスする\n",
        "url='https://www.e-stat.go.jp/stat-search/files?page=1&layout=datalist&toukei=00501000&tstat=000001021364&cycle=7&year=20200&month=0&tclass1=000001021365&tclass2=000001158370'\n",
        "res=requests.get(url)"
      ],
      "execution_count": null,
      "outputs": []
    },
    {
      "cell_type": "code",
      "metadata": {
        "id": "uYSc89qzN5b6"
      },
      "source": [
        "#BeautifulSoupのオブジェクトを生成する\n",
        "soup=BeautifulSoup(res.text,\"html.parser\")"
      ],
      "execution_count": null,
      "outputs": []
    },
    {
      "cell_type": "code",
      "metadata": {
        "id": "FyXNucdPOrV6"
      },
      "source": [
        "#正規表現のライブラリを追加でインポートする\n",
        "import re"
      ],
      "execution_count": null,
      "outputs": []
    },
    {
      "cell_type": "code",
      "metadata": {
        "id": "KuB_qI-VO20Z"
      },
      "source": [
        "#アンカータグ(aタグ)のテキストに木材を含む要素を取得する。\n",
        "#パターンマッチングのためにre(正規表現のライブラリ)をインポートしています。\n",
        "elems = soup.find_all('a', text=re.compile('木材'))\n",
        "elems"
      ],
      "execution_count": null,
      "outputs": []
    },
    {
      "cell_type": "code",
      "metadata": {
        "id": "a66kx0b4PWMK"
      },
      "source": [
        "#試しに、中身を1つ確認する。\t\n",
        "text=elems[0].contents[0]\n",
        "text"
      ],
      "execution_count": null,
      "outputs": []
    },
    {
      "cell_type": "code",
      "metadata": {
        "colab": {
          "base_uri": "https://localhost:8080/",
          "height": 35
        },
        "id": "GjTkP4q7ZbJH",
        "outputId": "285a1103-74e9-4c85-9c19-f50ba1897f3a"
      },
      "source": [
        "#replace()とstrip()を使い、邪魔な「改行文字」と前後の「空白文字」を取り除く\n",
        "text=text.replace('\\n','').strip()\n",
        "text"
      ],
      "execution_count": null,
      "outputs": [
        {
          "output_type": "execute_result",
          "data": {
            "application/vnd.google.colaboratory.intrinsic+json": {
              "type": "string"
            },
            "text/plain": [
              "'令和２年(2020年)木材需給表'"
            ]
          },
          "metadata": {},
          "execution_count": 24
        }
      ]
    },
    {
      "cell_type": "code",
      "metadata": {
        "colab": {
          "base_uri": "https://localhost:8080/",
          "height": 69
        },
        "id": "QkTmow93QyY3",
        "outputId": "9a7be011-2acd-40a9-f1d7-af8951bc58ee"
      },
      "source": [
        "#試しに、アンカータグのhref属性を1つ確認する\n",
        "elem=elems[0].attrs['href']\n",
        "elem"
      ],
      "execution_count": null,
      "outputs": [
        {
          "output_type": "execute_result",
          "data": {
            "application/vnd.google.colaboratory.intrinsic+json": {
              "type": "string"
            },
            "text/plain": [
              "'/stat-search/files?page=1&layout=datalist&cycle=7&year=20200&month=0&toukei=00501000&tstat=000001021364&tclass1=000001021365&tclass2=000001158370&tclass3val=0&stat_infid=000032121754'"
            ]
          },
          "metadata": {},
          "execution_count": 16
        }
      ]
    },
    {
      "cell_type": "code",
      "metadata": {
        "id": "cEWDadxsUzxT"
      },
      "source": [
        "\"\"\"\n",
        "リンク先が相対URLだったため、urllib.parse.urljoin()で\n",
        "ベースのURLと結合するためにurllib.parseを追加でインポートします。\n",
        "\"\"\"\n",
        "import urllib.parse"
      ],
      "execution_count": null,
      "outputs": []
    },
    {
      "cell_type": "code",
      "metadata": {
        "colab": {
          "base_uri": "https://localhost:8080/",
          "height": 69
        },
        "id": "abrUdSoeU2ia",
        "outputId": "fcbb6d59-0394-47f0-8de4-cd4eb3f4bd24"
      },
      "source": [
        "#ベースのURLを代入し、rllib.parse.urljoin()でサイトから取り出した相対URLと結合します。\n",
        "urlbase='https://www.e-stat.go.jp/'\n",
        "urllib.parse.urljoin(urlbase,elem)"
      ],
      "execution_count": null,
      "outputs": [
        {
          "output_type": "execute_result",
          "data": {
            "application/vnd.google.colaboratory.intrinsic+json": {
              "type": "string"
            },
            "text/plain": [
              "'https://www.e-stat.go.jp/stat-search/files?page=1&layout=datalist&cycle=7&year=20200&month=0&toukei=00501000&tstat=000001021364&tclass1=000001021365&tclass2=000001158370&tclass3val=0&stat_infid=000032121754'"
            ]
          },
          "metadata": {},
          "execution_count": 18
        }
      ]
    },
    {
      "cell_type": "code",
      "metadata": {
        "id": "aGfIh7FjRkQH",
        "colab": {
          "base_uri": "https://localhost:8080/"
        },
        "outputId": "43d05347-762f-4c3b-d0d3-a96db81cc396"
      },
      "source": [
        "#for文でelemsの中身を取り出します。\n",
        "for elem in elems:\n",
        "    print(elem.contents[0].replace('\\n','').strip())\n",
        "    print(urllib.parse.urljoin(urlbase,elem.attrs['href']))"
      ],
      "execution_count": null,
      "outputs": [
        {
          "output_type": "stream",
          "name": "stdout",
          "text": [
            "令和２年(2020年)木材需給表\n",
            "https://www.e-stat.go.jp/stat-search/files?page=1&layout=datalist&cycle=7&year=20200&month=0&toukei=00501000&tstat=000001021364&tclass1=000001021365&tclass2=000001158370&tclass3val=0&stat_infid=000032121754\n",
            "木材需給の推移\n",
            "https://www.e-stat.go.jp/stat-search/files?page=1&layout=datalist&cycle=7&year=20200&month=0&toukei=00501000&tstat=000001021364&tclass1=000001021365&tclass2=000001158370&tclass3val=0&stat_infid=000032121755\n",
            "木材の需要量（用途別）の推移\n",
            "https://www.e-stat.go.jp/stat-search/files?page=1&layout=datalist&cycle=7&year=20200&month=0&toukei=00501000&tstat=000001021364&tclass1=000001021365&tclass2=000001158370&tclass3val=0&stat_infid=000032121756\n",
            "木材の供給量（形態別）の推移\n",
            "https://www.e-stat.go.jp/stat-search/files?page=1&layout=datalist&cycle=7&year=20200&month=0&toukei=00501000&tstat=000001021364&tclass1=000001021365&tclass2=000001158370&tclass3val=0&stat_infid=000032121757\n"
          ]
        }
      ]
    },
    {
      "cell_type": "markdown",
      "metadata": {
        "id": "Epn4t7BzlrkN"
      },
      "source": [
        "#### まとめ\n",
        "\n",
        "---\n",
        "◇標準ライブラリ<br />\n",
        "　　urllib,requests： URLを扱う<br />\n",
        "　　re： 正規表現を扱う<br />\n",
        "<br />\n",
        "◇外部ライブラリ<br />\n",
        "　　BeautifulSoup：スクレイピングを可能にする。<br />\n",
        "\n",
        "\n"
      ]
    },
    {
      "cell_type": "code",
      "metadata": {
        "id": "4Z6xN57jlxpd",
        "colab": {
          "base_uri": "https://localhost:8080/"
        },
        "outputId": "38611cc5-c2f6-492d-99ca-0ab963f8ddbb"
      },
      "source": [
        "import requests,re,urllib\n",
        "from bs4 import BeautifulSoup\n",
        "\n",
        "urlbase='https://www.e-stat.go.jp/'\n",
        "url='https://www.e-stat.go.jp/stat-search/files?page=1&layout=datalist&toukei=00501000&tstat=000001021364&cycle=7&year=20200&month=0&tclass1=000001021365&tclass2=000001158370'\n",
        "\n",
        "res=requests.get(url)\n",
        "soup=BeautifulSoup(res.text,\"html.parser\")\n",
        "elems = soup.find_all('a', text=re.compile('木材'))\n",
        "for elem in elems:\n",
        "    print(elem.contents[0].replace('\\n','').strip())\n",
        "    print(urllib.parse.urljoin(urlbase,elem.attrs['href']))\n"
      ],
      "execution_count": null,
      "outputs": [
        {
          "output_type": "stream",
          "name": "stdout",
          "text": [
            "令和２年(2020年)木材需給表\n",
            "https://www.e-stat.go.jp/stat-search/files?page=1&layout=datalist&cycle=7&year=20200&month=0&toukei=00501000&tstat=000001021364&tclass1=000001021365&tclass2=000001158370&tclass3val=0&stat_infid=000032121754\n",
            "木材需給の推移\n",
            "https://www.e-stat.go.jp/stat-search/files?page=1&layout=datalist&cycle=7&year=20200&month=0&toukei=00501000&tstat=000001021364&tclass1=000001021365&tclass2=000001158370&tclass3val=0&stat_infid=000032121755\n",
            "木材の需要量（用途別）の推移\n",
            "https://www.e-stat.go.jp/stat-search/files?page=1&layout=datalist&cycle=7&year=20200&month=0&toukei=00501000&tstat=000001021364&tclass1=000001021365&tclass2=000001158370&tclass3val=0&stat_infid=000032121756\n",
            "木材の供給量（形態別）の推移\n",
            "https://www.e-stat.go.jp/stat-search/files?page=1&layout=datalist&cycle=7&year=20200&month=0&toukei=00501000&tstat=000001021364&tclass1=000001021365&tclass2=000001158370&tclass3val=0&stat_infid=000032121757\n"
          ]
        }
      ]
    },
    {
      "cell_type": "markdown",
      "metadata": {
        "id": "hZDxsUeB8wMV"
      },
      "source": [
        "### 練習②　リンク先ページ内のリンク情報をまとめて一覧リスト化\n",
        "\n",
        "---\n",
        "木材需給表のトップページからリンク先の各年度のページに飛んでリンクのリストを一覧化します。\n"
      ]
    },
    {
      "cell_type": "markdown",
      "metadata": {
        "id": "FU9pBmiTZBtL"
      },
      "source": [
        "#### 動作のテスト"
      ]
    },
    {
      "cell_type": "code",
      "metadata": {
        "id": "o5tmFuXw9fFj"
      },
      "source": [
        "#ライブラリをインポート\n",
        "import requests\n",
        "from bs4 import BeautifulSoup"
      ],
      "execution_count": null,
      "outputs": []
    },
    {
      "cell_type": "code",
      "metadata": {
        "id": "KHxM1efU8vWd"
      },
      "source": [
        "#木材需給表サイトにアクセス\n",
        "url='https://www.maff.go.jp/j/tokei/kouhyou/mokuzai_zyukyu/index.html'\n",
        "res=requests.get(url)"
      ],
      "execution_count": null,
      "outputs": []
    },
    {
      "cell_type": "code",
      "metadata": {
        "id": "w6Heu_kdSDRu"
      },
      "source": [
        "#解析方法としてlxmlを選択しています。\n",
        "soup=BeautifulSoup(res.text,'lxml')"
      ],
      "execution_count": null,
      "outputs": []
    },
    {
      "cell_type": "code",
      "metadata": {
        "id": "asoV_UXq_GuP"
      },
      "source": [
        "#2つ目のテーブル内にあるアンカータグを全て取得して内容を確認します。\n",
        "for a in soup.select('table:nth-of-type(2)  a'):\n",
        "    print(a.text)\n",
        "    print(a.get('href'))"
      ],
      "execution_count": null,
      "outputs": []
    },
    {
      "cell_type": "code",
      "metadata": {
        "id": "RpnQiXxpYBxG"
      },
      "source": [
        "#リンク先にアクセスしてリンクの一覧リストを表示する関数を定義\n",
        "#関数の内容は練習①のまとめとほぼ同一です。\n",
        "import re,urllib\n",
        "urlbase='https://www.e-stat.go.jp/'\n",
        "def make_list(url):\n",
        "\n",
        "    res=requests.get(url)\n",
        "    soup=BeautifulSoup(res.text,'lxml')\n",
        "    elems = soup.find_all('a', text=re.compile('木材'))\n",
        "    print('\\n')\n",
        "\n",
        "    for elem in elems:\n",
        "        print(elem.contents[0].replace('\\n','').strip())\n",
        "        print(urllib.parse.urljoin(urlbase,elem.attrs['href']))"
      ],
      "execution_count": null,
      "outputs": []
    },
    {
      "cell_type": "code",
      "metadata": {
        "id": "azg41llMY6_V"
      },
      "source": [
        "#2つ目のテーブル内にあるアンカータグを全て取得して内容を確認します。\n",
        "\n",
        "for a in soup.select('table:nth-of-type(2)  a'):\n",
        "    url=a.get('href')\n",
        "    make_list(url)"
      ],
      "execution_count": null,
      "outputs": []
    },
    {
      "cell_type": "markdown",
      "metadata": {
        "id": "zdXs6QYvfupW"
      },
      "source": [
        "#### まとめ"
      ]
    },
    {
      "cell_type": "code",
      "metadata": {
        "id": "8uLDorMaf5Ju"
      },
      "source": [
        "#ライブラリをインポート\n",
        "import requests,urllib,re\n",
        "from bs4 import BeautifulSoup\n",
        "#木材需給表サイトにアクセス\n",
        "url='https://www.maff.go.jp/j/tokei/kouhyou/mokuzai_zyukyu/index.html'\n",
        "res=requests.get(url)\n",
        "soup=BeautifulSoup(res.text,'lxml')\n",
        "urlbase='https://www.e-stat.go.jp/'\n",
        "\n",
        "def make_list(url):\n",
        "\n",
        "    res=requests.get(url)\n",
        "    soup=BeautifulSoup(res.text,'lxml')\n",
        "    elems = soup.find_all('a', text=re.compile('木材'))\n",
        "    print('\\n')\n",
        "\n",
        "    for elem in elems:\n",
        "        print(elem.contents[0].replace('\\n','').strip())\n",
        "        print(urllib.parse.urljoin(urlbase,elem.attrs['href']))\n",
        "#2つ目のテーブル内にあるアンカータグを全て取得して内容を確認します。\n",
        "\n",
        "for a in soup.select('table:nth-of-type(2)  a'):\n",
        "    url=a.get('href')\n",
        "    make_list(url)"
      ],
      "execution_count": null,
      "outputs": []
    },
    {
      "cell_type": "markdown",
      "metadata": {
        "id": "V6WQbsqAFH5r"
      },
      "source": [
        "### 練習③　リストを一覧化してExcelに保存する"
      ]
    },
    {
      "cell_type": "markdown",
      "metadata": {
        "id": "ZD52kHTSMsUM"
      },
      "source": [
        "#### リストを作成してdata[]に保存\n",
        "\n",
        "---\n",
        "\n",
        "処理に40秒程度かかります。"
      ]
    },
    {
      "cell_type": "code",
      "metadata": {
        "id": "hV3DoyVQGNdx"
      },
      "source": [
        "#ライブラリをインポート\n",
        "import requests,urllib,re\n",
        "from bs4 import BeautifulSoup\n",
        "#木材需給表サイトにアクセス\n",
        "url='https://www.maff.go.jp/j/tokei/kouhyou/mokuzai_zyukyu/index.html'\n",
        "res=requests.get(url)\n",
        "soup=BeautifulSoup(res.text,'lxml')\n",
        "urlbase='https://www.e-stat.go.jp/'\n",
        "\n",
        "data=[]\n",
        "def make_list(url):\n",
        "\n",
        "    res=requests.get(url)\n",
        "    soup=BeautifulSoup(res.text,'lxml')\n",
        "    elems = soup.find_all('a', text=re.compile('木材'))\n",
        "\n",
        "    for elem in elems:\n",
        "        title=elem.contents[0].replace('\\n','').strip()\n",
        "        link=urllib.parse.urljoin(urlbase,elem.attrs['href'])\n",
        "        data.append([title,link])\n",
        "\n",
        "\n",
        "for a in soup.select('table:nth-of-type(2)  a'):\n",
        "    url=a.get('href')\n",
        "    make_list(url)"
      ],
      "execution_count": null,
      "outputs": []
    },
    {
      "cell_type": "markdown",
      "metadata": {
        "id": "E_tWVbe7M2Qj"
      },
      "source": [
        "#### pandasのデータフレームに読み込んでExcelに保存"
      ]
    },
    {
      "cell_type": "code",
      "metadata": {
        "id": "oZNAIUPpF9T6"
      },
      "source": [
        "import pandas as pd\n",
        "df=pd.DataFrame(data,columns=['名前','リンク'])\n",
        "df.to_excel('books.xlsx',index=False)"
      ],
      "execution_count": null,
      "outputs": []
    },
    {
      "cell_type": "markdown",
      "metadata": {
        "id": "JDGZfE0BPwkp"
      },
      "source": [
        "# 2.短縮URLツール\n",
        "\n",
        "---\n",
        "* tinyURLのサービスを使用します。\n",
        "*   外部ライブラリのpyshotenersをインストールします。\n",
        "\n",
        "\n"
      ]
    },
    {
      "cell_type": "code",
      "metadata": {
        "id": "WoY3S1X-Q6t3"
      },
      "source": [
        "#pyshortenersをインストール\n",
        "pip install pyshorteners"
      ],
      "execution_count": null,
      "outputs": []
    },
    {
      "cell_type": "markdown",
      "metadata": {
        "id": "e9cqgxWqSKw2"
      },
      "source": [
        "#### 練習①　固定URLを短縮固定"
      ]
    },
    {
      "cell_type": "code",
      "metadata": {
        "colab": {
          "base_uri": "https://localhost:8080/"
        },
        "id": "-idEjuHNQpYA",
        "outputId": "884a3e0b-4e89-46da-9a3d-50f149e48fa8"
      },
      "source": [
        "import pyshorteners\n",
        "\n",
        "s = pyshorteners.Shortener()\n",
        "print(s.tinyurl.short('https://colab.research.google.com/drive/1LMcP6jPwqCwPUoiZw2EAeh6-BnB7AHYW?hl=ja#scrollTo=-idEjuHNQpYA'))"
      ],
      "execution_count": null,
      "outputs": [
        {
          "output_type": "stream",
          "name": "stdout",
          "text": [
            "https://tinyurl.com/yeh7onf6\n"
          ]
        }
      ]
    },
    {
      "cell_type": "markdown",
      "metadata": {
        "id": "8Up5aj7ESUhl"
      },
      "source": [
        "#### 練習②　任意のURLを入力して短縮する"
      ]
    },
    {
      "cell_type": "code",
      "metadata": {
        "id": "rJh1qHUcXhBp"
      },
      "source": [
        "pip install pyshorteners"
      ],
      "execution_count": null,
      "outputs": []
    },
    {
      "cell_type": "code",
      "metadata": {
        "colab": {
          "base_uri": "https://localhost:8080/"
        },
        "id": "4za4PHhJRMLh",
        "outputId": "dd35561e-739c-451e-a7b3-e9ab9ffe5e3f"
      },
      "source": [
        "\n",
        "from pyshorteners import Shortener\n",
        "\n",
        "s = Shortener()\n",
        "\n",
        "url = input(\"短縮化したいリンクを入力してください: \")\n",
        "shortened_link = s.tinyurl.short(url)\n",
        "print(\" 短縮URL: \" + shortened_link)\n",
        "\n",
        "\n"
      ],
      "execution_count": null,
      "outputs": [
        {
          "output_type": "stream",
          "name": "stdout",
          "text": [
            "短縮化したいリンクを入力してください: https://kitakazex-python.blogspot.com/\n",
            " 短縮URL: https://tinyurl.com/yhet8jc7\n"
          ]
        }
      ]
    },
    {
      "cell_type": "markdown",
      "metadata": {
        "id": "j47A6U05ZUZ3"
      },
      "source": [
        "# 3.ファイル名変更ツール"
      ]
    },
    {
      "cell_type": "markdown",
      "metadata": {
        "id": "PW9O8929Zz03"
      },
      "source": [
        "####練習①\n",
        "\n",
        "---\n",
        "段取り用のファイルを100個 準備する\n"
      ]
    },
    {
      "cell_type": "code",
      "metadata": {
        "id": "bAQQjvxRaeya"
      },
      "source": [
        "s = 'New file'\n",
        "\n",
        "for i in range(100):\n",
        "    with open(f'{s}{i}.txt', mode='w') as f:\n",
        "        f.write(f'{s}No.{i}')"
      ],
      "execution_count": null,
      "outputs": []
    },
    {
      "cell_type": "markdown",
      "metadata": {
        "id": "xxeBnNRFsxI0"
      },
      "source": [
        "ファイル名を変更する\n",
        "\n",
        "---\n",
        "ここではWindowsの標準機能と同等の事を行っていますが、応用が可能です。\n"
      ]
    },
    {
      "cell_type": "code",
      "metadata": {
        "id": "8-BxYEaXh-HQ"
      },
      "source": [
        "import os\n",
        "from glob import glob\n",
        "\n",
        "files = glob('*.txt')\n",
        "\n",
        "for i, f in enumerate(files, 1):\n",
        "    os.rename(f,'NewFile_{0:03d}.txt'.format(i))"
      ],
      "execution_count": null,
      "outputs": []
    },
    {
      "cell_type": "markdown",
      "metadata": {
        "id": "F9KbjN5vtquz"
      },
      "source": [
        "ファイルを削除します。"
      ]
    },
    {
      "cell_type": "code",
      "metadata": {
        "id": "p2dej19Vik92"
      },
      "source": [
        "import os\n",
        "from glob import glob\n",
        "\n",
        "files = glob('*.txt')\n",
        "for  f in files:\n",
        "    os.remove(f)"
      ],
      "execution_count": null,
      "outputs": []
    },
    {
      "cell_type": "markdown",
      "metadata": {
        "id": "yBE9ZSz-5ROb"
      },
      "source": [
        "# 4.ディレクトリツリー生成ツール"
      ]
    },
    {
      "cell_type": "markdown",
      "metadata": {
        "id": "rmJWil886X0y"
      },
      "source": [
        "###準備\n",
        "\n",
        "---\n",
        "\n",
        "ディレクトリツリーを作るためにダミーのディレクトリ階層\n",
        "を作ります。\n",
        "\n",
        "---\n",
        "    1.ルートディレクトリを作成する\n",
        "    2.ルートディレクトリに、サブディレクトリとファイルを作成する\n",
        "    3.サブディレクトリにサブディレクトリとファイルを作成する\n",
        "    ※ルートディレクトリからの階層は3つまでとします。\n"
      ]
    },
    {
      "cell_type": "code",
      "metadata": {
        "id": "gQPlQ9ixEBkc"
      },
      "source": [
        "#1.ルートディレクトリを作成する\n",
        "import os \n",
        "os.mkdir('root')"
      ],
      "execution_count": 2,
      "outputs": []
    },
    {
      "cell_type": "code",
      "metadata": {
        "id": "PE0Tg4ejZvRW"
      },
      "source": [
        "#2，3.ルートディレクトリの中にサブディレクトリとファイルを作成する\n",
        "import os,random\n",
        "\n",
        "dir_id,file_id=1,1000\n",
        "\n",
        "def makefile(path,id):\n",
        "    \"\"\"\n",
        "    ◇機能の説明◇\n",
        "    ・\"New file_x.txt\"という名前のダミーファイルを作成する\n",
        "    ・os.path.join()でファイルパスを指定する\n",
        "    \"\"\"\n",
        "    s = 'New file'\n",
        "    with open(os.path.join(path,f'{s}_{id}.txt'), mode='w') as f:\n",
        "        f.write(f'This file\\'s ID is \"{id}\".')\n",
        "\n",
        "def mkdifle(parent,last_depth=3):\n",
        "    \"\"\"\n",
        "    ◇機能の説明◇\n",
        "    ・parentのパスにサブディレクトリとファイルをランダム個作成する\n",
        "    ・last_depthは作成するディレクトリ階層の深さ（デフォルト初期値は3）\n",
        "    ・サブディレクトリのパス（次の親ディレクトリ）をリスト（dirs[]）に格納する。\n",
        "    ・random.randint(1,3)の1と3はマジックナンバー（特に意味はない。）\n",
        "    \"\"\"\n",
        "    global dir_id\n",
        "    global file_id\n",
        "\n",
        "    dirs=[]\n",
        "    for n in range(random.randint(a=1,b=3)):\n",
        "        \n",
        "        path=os.path.join(parent,f'LD{last_depth}dir_{dir_id}')\n",
        "        if not os.path.exists(path):\n",
        "            os.mkdir(path)\n",
        "            dirs.append(path)\n",
        "        \n",
        "        dir_id+=1\n",
        "    for n in range(random.randint(a=1,b=3)):\n",
        "        \n",
        "        file_id+=1\n",
        "        makefile(parent,file_id)\n",
        "    if last_depth>1:\n",
        "        for parent in dirs:\n",
        "            mkdifle(parent,last_depth-1)"
      ],
      "execution_count": 3,
      "outputs": []
    },
    {
      "cell_type": "code",
      "metadata": {
        "id": "e8ytfC2HhW0g"
      },
      "source": [
        "#2.3.ルートディレクトリに、サブディレクトリとファイルを作成する\n",
        "#上記のmakefile()とmkdifle()の読み込みが必要。\n",
        "#dir_id、file_idに初期値を設定します。\n",
        "dir_id,file_id=1,1000\n",
        "mkdifle('root')"
      ],
      "execution_count": 4,
      "outputs": []
    },
    {
      "cell_type": "code",
      "metadata": {
        "id": "5CI0aSzpf1bZ"
      },
      "source": [
        "#リセット用コード\n",
        "#root以下のディレクトリを一括削除する\n",
        "import shutil\n",
        "shutil.rmtree('root')\n",
        "os.mkdir('root')"
      ],
      "execution_count": null,
      "outputs": []
    },
    {
      "cell_type": "markdown",
      "metadata": {
        "id": "wfn4k-ipozAK"
      },
      "source": [
        "###練習①anytreeライブラリを使用する\n",
        "\n"
      ]
    },
    {
      "cell_type": "code",
      "metadata": {
        "id": "jRM2E8j7js-s"
      },
      "source": [
        "pip install anytree"
      ],
      "execution_count": null,
      "outputs": []
    },
    {
      "cell_type": "code",
      "metadata": {
        "id": "Ip8I8QL7batz"
      },
      "source": [
        "from anytree import Node, RenderTree\n",
        "from pathlib import Path  #←Pathライブラリは使用しなくてもPythonがうまく処理してくれます。"
      ],
      "execution_count": 96,
      "outputs": []
    },
    {
      "cell_type": "code",
      "metadata": {
        "id": "3_6zbekzehVy"
      },
      "source": [
        "def dir_check(parent:Node,parentpath:Path):\n",
        "    \"\"\"\n",
        "    anytreeライブラリを用いてディレクトリツリーを作成します。\n",
        "    listdir()でディレクトリ内のフォルダとファイルを確認し、\n",
        "    ディレクトリについてのみ再帰的にツリー関係を設定します。\n",
        "\n",
        "    ノードの変数=Node(ノードの名前,parent=親ノードの変数)\n",
        "    \"\"\"\n",
        "\n",
        "    for n in sorted(os.listdir(parentpath)):\n",
        "        children=Node(n,parent=parent)\n",
        "        childrenpath=os.path.join(parentpath,n)\n",
        "        if(os.path.isdir(childrenpath)):\n",
        "            dir_check(children,childrenpath)\n"
      ],
      "execution_count": 110,
      "outputs": []
    },
    {
      "cell_type": "code",
      "metadata": {
        "id": "JbxP7WKsc7YK"
      },
      "source": [
        "#rootを初期化します。\n",
        "root=Node('./root')"
      ],
      "execution_count": 111,
      "outputs": []
    },
    {
      "cell_type": "code",
      "metadata": {
        "id": "N6DtUTYjdEQz"
      },
      "source": [
        "#dir_check()関数を実行します。\n",
        "dir_check(root,'./root')"
      ],
      "execution_count": 112,
      "outputs": []
    },
    {
      "cell_type": "code",
      "metadata": {
        "colab": {
          "base_uri": "https://localhost:8080/"
        },
        "id": "NBsuknPgbWwV",
        "outputId": "c8a99872-b955-4ef8-ca8f-c5486e8b1156"
      },
      "source": [
        "#RenderTree(root)を出力します。\n",
        " for pre, fill,node in RenderTree(root):\n",
        "    print(\"%s%s\" % (pre, node.name))"
      ],
      "execution_count": 113,
      "outputs": [
        {
          "output_type": "stream",
          "name": "stdout",
          "text": [
            "./root\n",
            "├── LD3dir_1\n",
            "│   ├── LD2dir_4\n",
            "│   │   ├── LD1dir_5\n",
            "│   │   ├── LD1dir_6\n",
            "│   │   ├── LD1dir_7\n",
            "│   │   └── New file_1005.txt\n",
            "│   ├── New file_1003.txt\n",
            "│   └── New file_1004.txt\n",
            "├── LD3dir_2\n",
            "│   ├── LD2dir_8\n",
            "│   │   ├── LD1dir_10\n",
            "│   │   ├── LD1dir_11\n",
            "│   │   ├── LD1dir_12\n",
            "│   │   └── New file_1009.txt\n",
            "│   ├── LD2dir_9\n",
            "│   │   ├── LD1dir_13\n",
            "│   │   └── New file_1010.txt\n",
            "│   ├── New file_1006.txt\n",
            "│   ├── New file_1007.txt\n",
            "│   └── New file_1008.txt\n",
            "├── LD3dir_3\n",
            "│   ├── LD2dir_14\n",
            "│   │   ├── LD1dir_16\n",
            "│   │   ├── LD1dir_17\n",
            "│   │   ├── LD1dir_18\n",
            "│   │   ├── New file_1014.txt\n",
            "│   │   └── New file_1015.txt\n",
            "│   ├── LD2dir_15\n",
            "│   │   ├── LD1dir_19\n",
            "│   │   ├── LD1dir_20\n",
            "│   │   ├── New file_1016.txt\n",
            "│   │   └── New file_1017.txt\n",
            "│   ├── New file_1011.txt\n",
            "│   ├── New file_1012.txt\n",
            "│   └── New file_1013.txt\n",
            "├── New file_1001.txt\n",
            "└── New file_1002.txt\n"
          ]
        }
      ]
    },
    {
      "cell_type": "code",
      "metadata": {
        "colab": {
          "base_uri": "https://localhost:8080/"
        },
        "id": "METbxlZtpyge",
        "outputId": "3d9c7251-d264-48f4-d657-c4796c08106c"
      },
      "source": [
        "#少し見づらいですが、以下のようにして出力することも可能です。\n",
        "print(RenderTree(root))"
      ],
      "execution_count": 114,
      "outputs": [
        {
          "output_type": "stream",
          "name": "stdout",
          "text": [
            "Node('/./root')\n",
            "├── Node('/./root/LD3dir_1')\n",
            "│   ├── Node('/./root/LD3dir_1/LD2dir_4')\n",
            "│   │   ├── Node('/./root/LD3dir_1/LD2dir_4/LD1dir_5')\n",
            "│   │   ├── Node('/./root/LD3dir_1/LD2dir_4/LD1dir_6')\n",
            "│   │   ├── Node('/./root/LD3dir_1/LD2dir_4/LD1dir_7')\n",
            "│   │   └── Node('/./root/LD3dir_1/LD2dir_4/New file_1005.txt')\n",
            "│   ├── Node('/./root/LD3dir_1/New file_1003.txt')\n",
            "│   └── Node('/./root/LD3dir_1/New file_1004.txt')\n",
            "├── Node('/./root/LD3dir_2')\n",
            "│   ├── Node('/./root/LD3dir_2/LD2dir_8')\n",
            "│   │   ├── Node('/./root/LD3dir_2/LD2dir_8/LD1dir_10')\n",
            "│   │   ├── Node('/./root/LD3dir_2/LD2dir_8/LD1dir_11')\n",
            "│   │   ├── Node('/./root/LD3dir_2/LD2dir_8/LD1dir_12')\n",
            "│   │   └── Node('/./root/LD3dir_2/LD2dir_8/New file_1009.txt')\n",
            "│   ├── Node('/./root/LD3dir_2/LD2dir_9')\n",
            "│   │   ├── Node('/./root/LD3dir_2/LD2dir_9/LD1dir_13')\n",
            "│   │   └── Node('/./root/LD3dir_2/LD2dir_9/New file_1010.txt')\n",
            "│   ├── Node('/./root/LD3dir_2/New file_1006.txt')\n",
            "│   ├── Node('/./root/LD3dir_2/New file_1007.txt')\n",
            "│   └── Node('/./root/LD3dir_2/New file_1008.txt')\n",
            "├── Node('/./root/LD3dir_3')\n",
            "│   ├── Node('/./root/LD3dir_3/LD2dir_14')\n",
            "│   │   ├── Node('/./root/LD3dir_3/LD2dir_14/LD1dir_16')\n",
            "│   │   ├── Node('/./root/LD3dir_3/LD2dir_14/LD1dir_17')\n",
            "│   │   ├── Node('/./root/LD3dir_3/LD2dir_14/LD1dir_18')\n",
            "│   │   ├── Node('/./root/LD3dir_3/LD2dir_14/New file_1014.txt')\n",
            "│   │   └── Node('/./root/LD3dir_3/LD2dir_14/New file_1015.txt')\n",
            "│   ├── Node('/./root/LD3dir_3/LD2dir_15')\n",
            "│   │   ├── Node('/./root/LD3dir_3/LD2dir_15/LD1dir_19')\n",
            "│   │   ├── Node('/./root/LD3dir_3/LD2dir_15/LD1dir_20')\n",
            "│   │   ├── Node('/./root/LD3dir_3/LD2dir_15/New file_1016.txt')\n",
            "│   │   └── Node('/./root/LD3dir_3/LD2dir_15/New file_1017.txt')\n",
            "│   ├── Node('/./root/LD3dir_3/New file_1011.txt')\n",
            "│   ├── Node('/./root/LD3dir_3/New file_1012.txt')\n",
            "│   └── Node('/./root/LD3dir_3/New file_1013.txt')\n",
            "├── Node('/./root/New file_1001.txt')\n",
            "└── Node('/./root/New file_1002.txt')\n"
          ]
        }
      ]
    },
    {
      "cell_type": "code",
      "metadata": {
        "id": "pxul-GVte0bC"
      },
      "source": [
        "#リセット用コード\n",
        "del root\n",
        "root=Node('./root')"
      ],
      "execution_count": 90,
      "outputs": []
    },
    {
      "cell_type": "markdown",
      "metadata": {
        "id": "9JCx0NMIj6vM"
      },
      "source": [
        "####anytreeのチュートリアル\n",
        "\n",
        "---\n",
        "https://anytree.readthedocs.io/en/latest/\n"
      ]
    },
    {
      "cell_type": "code",
      "metadata": {
        "id": "UuBmOF13wTdw"
      },
      "source": [
        "from anytree import Node, RenderTree\n",
        " \n",
        "udo  = Node( \"Udo\" , parent=None )\n",
        "marc = Node( \"Marc\", parent=udo )\n",
        "lian = Node( \"Lian\", parent=marc )\n",
        "dan  = Node( \"Dan\",  parent=udo )\n",
        "jet  = Node( \"Jet\",  parent=dan )\n",
        "jan  = Node( \"Jan\",  parent=dan )\n",
        "joe  = Node( \"Joe\",  parent=dan )"
      ],
      "execution_count": null,
      "outputs": []
    },
    {
      "cell_type": "code",
      "metadata": {
        "colab": {
          "base_uri": "https://localhost:8080/"
        },
        "id": "LaSCHza_MdN8",
        "outputId": "891fa9bb-ef1e-41b5-f33f-5cd20262541c"
      },
      "source": [
        " for pre, fill,node in RenderTree(udo):\n",
        "    print(\"%s%s\" % (pre, node.name))"
      ],
      "execution_count": null,
      "outputs": [
        {
          "output_type": "stream",
          "name": "stdout",
          "text": [
            "Udo\n",
            "├── Marc\n",
            "│   └── Lian\n",
            "└── Dan\n",
            "    ├── Jet\n",
            "    ├── Jan\n",
            "    └── Joe\n"
          ]
        }
      ]
    }
  ]
}